{
  "nbformat": 4,
  "nbformat_minor": 0,
  "metadata": {
    "colab": {
      "provenance": [],
      "toc_visible": true,
      "authorship_tag": "ABX9TyMe3ZymxjXvRsYO52QKHsGK",
      "include_colab_link": true
    },
    "kernelspec": {
      "name": "python3",
      "display_name": "Python 3"
    },
    "language_info": {
      "name": "python"
    }
  },
  "cells": [
    {
      "cell_type": "markdown",
      "metadata": {
        "id": "view-in-github",
        "colab_type": "text"
      },
      "source": [
        "<a href=\"https://colab.research.google.com/github/cboomus/SAT5114/blob/main/Small_Project_2_SAT5114_py.ipynb\" target=\"_parent\"><img src=\"https://colab.research.google.com/assets/colab-badge.svg\" alt=\"Open In Colab\"/></a>"
      ]
    },
    {
      "cell_type": "code",
      "source": [
        "# ChatGPT was used for generation and improvement of code for this assignment\n",
        "\n",
        "# Import from library sci-kit-learn (sklearn) module datasets and module Support Vector Machine (SVM)\n",
        "from sklearn import datasets, svm\n",
        "\n",
        "# Import from sklearn module model_selection train_test_split function and RandomizedSearchCV class\n",
        "from sklearn.model_selection import train_test_split, RandomizedSearchCV\n",
        "\n",
        "# Import from scipy library stat module the distributions reciprocal and uniform\n",
        "from scipy.stats import reciprocal, uniform\n",
        "\n",
        "# Import from sklearn metrics module confusion_matrix function\n",
        "from sklearn.metrics import confusion_matrix\n",
        "\n",
        "# Load the breast cancer dataset\n",
        "cancer = datasets.load_breast_cancer()\n",
        "\n",
        "# Define the SVM classifier\n",
        "svm_classifier = svm.SVC()\n",
        "\n",
        "# Define the hyperparameter distribution to search\n",
        "param_dist = {\n",
        "    'C': reciprocal(0.1, 100),\n",
        "    'kernel': ['linear', 'rbf'],\n",
        "    'gamma': reciprocal(0.001, 1)\n",
        "}\n",
        "\n",
        "# Create a RandomizedSearchCV object with the specified hyperparameter distribution and cross-validation settings\n",
        "random_search = RandomizedSearchCV(svm_classifier, param_distributions=param_dist, n_iter=10, cv=5, scoring='accuracy', random_state=42)\n",
        "\n",
        "# Perform the random search on the training data\n",
        "random_search.fit(cancer.data, cancer.target)\n",
        "\n",
        "# Print detailed information about the best estimator\n",
        "print(\"Best Hyperparameters:\")\n",
        "print(random_search.best_params_)\n",
        "print(\"\\nBest Estimator:\")\n",
        "print(random_search.best_estimator_)\n",
        "\n",
        "# Print the mean cross-validated score of the best estimator\n",
        "print(\"\\nBest Cross-Validation Accuracy:\", random_search.best_score_)\n",
        "\n",
        "# Evaluate performance of the best SVM classifier on the test dataset\n",
        "best_svm_classifier = random_search.best_estimator_\n",
        "X_train, X_test, y_train, y_test = train_test_split(cancer.data, cancer.target, test_size=0.2, random_state=42)\n",
        "best_svm_classifier.fit(X_train, y_train)\n",
        "test_accuracy = best_svm_classifier.score(X_test, y_test)\n",
        "print(\"\\nTest Set Accuracy:\", test_accuracy)\n",
        "\n",
        "# Calculate predictions on the test set\n",
        "y_pred = best_svm_classifier.predict(X_test)\n",
        "\n",
        "# Calculate confusion matrix\n",
        "conf_matrix = confusion_matrix(y_test, y_pred)\n",
        "\n",
        "# Extract True Positives, False Positives, True Negatives, and False Negatives\n",
        "TN, FP, FN, TP = conf_matrix.ravel()\n",
        "\n",
        "# Calculate sensitivity (true positive rate)\n",
        "sensitivity = TP / (TP + FN)\n",
        "\n",
        "# Calculate specificity (true negative rate)\n",
        "specificity = TN / (TN + FP)\n",
        "\n",
        "# Print sensitivity and specificity\n",
        "print(\"\\nSensitivity (True Positive Rate):\", sensitivity)\n",
        "print(\"Specificity (True Negative Rate):\", specificity)\n"
      ],
      "metadata": {
        "id": "nUqUupe240dZ",
        "colab": {
          "base_uri": "https://localhost:8080/"
        },
        "outputId": "d18913d6-63a4-4a4e-cda7-06faee52fb2d"
      },
      "execution_count": null,
      "outputs": [
        {
          "output_type": "stream",
          "name": "stdout",
          "text": [
            "Best Hyperparameters:\n",
            "{'C': 0.10500232504231348, 'gamma': 0.0011727009450102248, 'kernel': 'linear'}\n",
            "\n",
            "Best Estimator:\n",
            "SVC(C=0.10500232504231348, gamma=0.0011727009450102248, kernel='linear')\n",
            "\n",
            "Best Cross-Validation Accuracy: 0.9507995652848935\n",
            "\n",
            "Test Set Accuracy: 0.9649122807017544\n",
            "\n",
            "Sensitivity (True Positive Rate): 0.9859154929577465\n",
            "Specificity (True Negative Rate): 0.9302325581395349\n"
          ]
        }
      ]
    }
  ]
}