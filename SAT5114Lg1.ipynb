{
  "nbformat": 4,
  "nbformat_minor": 0,
  "metadata": {
    "colab": {
      "provenance": [],
      "authorship_tag": "ABX9TyPP5BuGWIUXZq9DgbBAqKNL",
      "include_colab_link": true
    },
    "kernelspec": {
      "name": "python3",
      "display_name": "Python 3"
    },
    "language_info": {
      "name": "python"
    }
  },
  "cells": [
    {
      "cell_type": "markdown",
      "metadata": {
        "id": "view-in-github",
        "colab_type": "text"
      },
      "source": [
        "<a href=\"https://colab.research.google.com/github/cboomus/SAT5114/blob/main/SAT5114Lg1.ipynb\" target=\"_parent\"><img src=\"https://colab.research.google.com/assets/colab-badge.svg\" alt=\"Open In Colab\"/></a>"
      ]
    },
    {
      "cell_type": "code",
      "execution_count": 153,
      "metadata": {
        "id": "Wu6gUI9XHflx"
      },
      "outputs": [],
      "source": [
        "# This project dataset by Ibraheem DL, Samy B, Therkorn JH, Falvo MJ.\n",
        "# Beyond the Expiratory Limb: A Complete Raw Spirometry Dataset.\n",
        "# Front Physiol. 2022 May 23;13:898831.\n",
        "# doi: 10.3389/fphys.2022.898831. PMID: 35677095; PMCID: PMC9168312.\n",
        "\n",
        "# The code was generated with shameless and extensive\n",
        "# consultation with ChatGPT.\n",
        "\n",
        "# The purpose is to determine if there is a statistically significant\n",
        "# difference between races for spirometry-derived inhalation volumes\n",
        "# and flow rates.\n",
        "\n",
        "# Null hypothesis: There is no statistically significant\n",
        "# difference between flow rates and volumes between races.\n"
      ]
    },
    {
      "cell_type": "code",
      "source": [
        "# This section is to convert the TXT file to a CSV file\n",
        "# and drops the rows with NaN values\n",
        "\n",
        "import pandas as pd\n",
        "\n",
        "# Input and output file names\n",
        "input_file_name = 'spirotidydata.txt'\n",
        "output_file_name = 'spiro_data.csv'\n",
        "\n",
        "# Define column labels\n",
        "columns = ['ID', 'Visit', 'Trial', 'Time', 'Volume', 'Flow']\n",
        "\n",
        "# Read data from txt file using pandas\n",
        "df = pd.read_csv(input_file_name, names=columns, skiprows=1)\n",
        "\n",
        "# Write data to csv file\n",
        "df.to_csv(output_file_name, index=False)\n",
        "\n",
        "# Drop rows that contain NaN\n",
        "df = df.dropna()\n"
      ],
      "metadata": {
        "id": "mHMWP7eZJkVL"
      },
      "execution_count": 154,
      "outputs": []
    },
    {
      "cell_type": "code",
      "source": [
        "# This section finds the max volume and flow for each\n",
        "# ID, Visit, and Trial and saves in df spiro_data_max.csv\n",
        "\n",
        "# Load the CSV file\n",
        "df = pd.read_csv('spiro_data.csv')\n",
        "\n",
        "# Convert 'Volume' and 'Flow' columns to numeric\n",
        "df['Volume'] = pd.to_numeric(df['Volume'], errors='coerce')\n",
        "df['Flow'] = pd.to_numeric(df['Flow'], errors='coerce')\n",
        "\n",
        "# Group by ID, Visit, and Trial\n",
        "grouped_df = df.groupby(['ID', 'Visit', 'Trial'])\n",
        "\n",
        "# Find the maximum volume and flow for each group\n",
        "max_volume = grouped_df['Volume'].max().reset_index()\n",
        "max_flow = grouped_df['Flow'].max().reset_index()\n",
        "\n",
        "# Merge the results on 'ID', 'Visit', and 'Trial'\n",
        "max_values = pd.merge(max_volume, max_flow, on=['ID', 'Visit', 'Trial'])\n",
        "\n",
        "# Rename columns to 'Max Volume' and 'Max Flow'\n",
        "max_values = max_values.rename(columns={'Volume': 'Max Volume', 'Flow': 'Max Flow'})\n",
        "\n",
        "# Save the result to a new CSV file in the same directory\n",
        "max_values.to_csv('spiro_data_max.csv', index=False)\n",
        "\n"
      ],
      "metadata": {
        "id": "C0-0-h00ewEE"
      },
      "execution_count": 155,
      "outputs": []
    },
    {
      "cell_type": "code",
      "source": [
        "# This section merges the demographic file demographics_data.csv\n",
        "# with the newly created file spiro_data_max.csv with the\n",
        "# index value of ID and drops the rows with NaN values\n",
        "\n",
        "# Load spiro_data_max.csv\n",
        "max_values = pd.read_csv('spiro_data_max.csv')\n",
        "\n",
        "# Load demographics_data.csv\n",
        "demographics_data = pd.read_csv('demographics_data.csv')\n",
        "\n",
        "# Merge the two DataFrames on the 'ID' column\n",
        "merged_data = pd.merge(max_values, demographics_data, on='ID')\n",
        "\n",
        "# Rename columns to lowercase\n",
        "merged_data = merged_data.rename(columns={\n",
        "    'WEIGHT': 'Weight',\n",
        "    'HEIGHT': 'Height',\n",
        "    'SEX': 'Sex',\n",
        "    'AGE': 'Age',\n",
        "    'ETHNICITY': 'Ethnicity',\n",
        "    'RACE': 'Race'\n",
        "})\n",
        "\n",
        "# Drop rows with NaN values\n",
        "merged_data = merged_data.dropna()\n",
        "\n",
        "# Save the merged result to a new CSV file\n",
        "merged_data.to_csv('merged_data.csv', index=False)\n"
      ],
      "metadata": {
        "id": "Z9nGmWEPmCk6"
      },
      "execution_count": 156,
      "outputs": []
    },
    {
      "cell_type": "code",
      "source": [
        "# This section processes the data to create binary data for\n",
        "# the columns Sex, Ethnicity, and Race\n",
        "\n",
        "# Load merged_data.csv\n",
        "merged_data = pd.read_csv('merged_data.csv')\n",
        "\n",
        "# Use get_dummies to one-hot encode 'Sex', 'Ethnicity', and 'Race'\n",
        "merged_data_encoded = pd.get_dummies(merged_data, columns=['Sex', 'Ethnicity', 'Race'])\n",
        "\n",
        "# Save the one-hot encoded result to a new CSV file\n",
        "merged_data_encoded.to_csv('merged_data_encoded.csv', index=False)\n"
      ],
      "metadata": {
        "id": "vX68jTVhpD5r"
      },
      "execution_count": 157,
      "outputs": []
    },
    {
      "cell_type": "code",
      "source": [
        "# This section uses train_test_split to split the data into\n",
        "# training and test data then uses Random Forest Regressor\n",
        "# to predict max flow based on race\n",
        "\n",
        "from sklearn.model_selection import train_test_split\n",
        "from sklearn.ensemble import RandomForestRegressor\n",
        "from sklearn.metrics import mean_squared_error, r2_score\n",
        "\n",
        "# Load merged_data_encoded.csv\n",
        "merged_data_encoded = pd.read_csv('merged_data_encoded.csv')\n",
        "\n",
        "# 'Max Flow' is the target variable\n",
        "target_variable = 'Max Flow'\n",
        "\n",
        "# Extract features (X) and target variable (y)\n",
        "X = merged_data_encoded.drop([target_variable], axis=1)\n",
        "y = merged_data_encoded[target_variable]\n",
        "\n",
        "# Split the data into training and testing sets\n",
        "X_train, X_test, y_train, y_test = train_test_split(X, y, test_size=0.2, random_state=37)\n",
        "\n",
        "# Create a Random Forest Regressor model\n",
        "rf_model = RandomForestRegressor(n_estimators=100, random_state=37)\n",
        "\n",
        "# Train the model\n",
        "rf_model.fit(X_train, y_train)\n",
        "\n",
        "# Make predictions on the test set\n",
        "y_pred = rf_model.predict(X_test)\n",
        "\n",
        "# Evaluate the model\n",
        "mse = mean_squared_error(y_test, y_pred)\n",
        "r2 = r2_score(y_test, y_pred)\n",
        "\n",
        "print(f'Mean Squared Error: {mse}')\n",
        "print(f'R-squared: {r2}')\n"
      ],
      "metadata": {
        "colab": {
          "base_uri": "https://localhost:8080/"
        },
        "id": "vT13BHubrQgu",
        "outputId": "e43f1e3a-b966-425e-9ab9-8b6a006c991e"
      },
      "execution_count": 158,
      "outputs": [
        {
          "output_type": "stream",
          "name": "stdout",
          "text": [
            "Mean Squared Error: 0.5809841591529995\n",
            "R-squared: -2.9156214405491467\n"
          ]
        }
      ]
    },
    {
      "cell_type": "code",
      "source": [
        "# This section uses train_test_split to again split the data into\n",
        "# training and test data then uses Random Forest Regressor\n",
        "# to predict max volume based on race\n",
        "\n",
        "from sklearn.model_selection import train_test_split\n",
        "from sklearn.ensemble import RandomForestRegressor\n",
        "from sklearn.metrics import mean_squared_error, r2_score\n",
        "\n",
        "# Load merged_data_encoded.csv\n",
        "merged_data_encoded = pd.read_csv('merged_data_encoded.csv')\n",
        "\n",
        "# 'Max Flow' is the target variable\n",
        "target_variable = 'Max Volume'\n",
        "\n",
        "# Extract features (X) and target variable (y)\n",
        "X = merged_data_encoded.drop([target_variable], axis=1)\n",
        "y = merged_data_encoded[target_variable]\n",
        "\n",
        "# Split the data into training and testing sets\n",
        "X_train, X_test, y_train, y_test = train_test_split(X, y, test_size=0.2, random_state=37)\n",
        "\n",
        "# Create a Random Forest Regressor model\n",
        "rf_model = RandomForestRegressor(n_estimators=100, random_state=37)\n",
        "\n",
        "# Train the model\n",
        "rf_model.fit(X_train, y_train)\n",
        "\n",
        "# Make predictions on the test set\n",
        "y_pred = rf_model.predict(X_test)\n",
        "\n",
        "# Evaluate the model\n",
        "mse = mean_squared_error(y_test, y_pred)\n",
        "r2 = r2_score(y_test, y_pred)\n",
        "\n",
        "print(f'Mean Squared Error: {mse}')\n",
        "print(f'R-squared: {r2}')\n",
        "\n",
        "print()\n"
      ],
      "metadata": {
        "colab": {
          "base_uri": "https://localhost:8080/"
        },
        "id": "G4VBl1_yzK5L",
        "outputId": "bb7ac639-2e16-4716-a83c-67da8b52629d"
      },
      "execution_count": 159,
      "outputs": [
        {
          "output_type": "stream",
          "name": "stdout",
          "text": [
            "Mean Squared Error: 0.005432729749799881\n",
            "R-squared: -1.7791366792467445\n",
            "\n"
          ]
        }
      ]
    },
    {
      "cell_type": "code",
      "source": [
        "# Scatter plot of Max Volume to Age by Race\n",
        "# To try to get more infomration about poor correlation\n",
        "\n",
        "import matplotlib.pyplot as plt\n",
        "\n",
        "# Read data into a DataFrame\n",
        "merged_data = pd.read_csv('merged_data_encoded.csv')\n",
        "\n",
        "# Extract relevant columns\n",
        "age = merged_data['Age']\n",
        "max_volume = merged_data['Max Volume']\n",
        "race_asian = merged_data['Race_Asian']\n",
        "race_white = merged_data['Race_White']\n",
        "\n",
        "# Create a scatter plot\n",
        "plt.figure(figsize=(10, 6))\n",
        "\n",
        "# Plot Asian data points\n",
        "plt.scatter(age[race_asian == 1], max_volume[race_asian == 1], label='Asian', color='blue')\n",
        "\n",
        "# Plot White data points\n",
        "plt.scatter(age[race_white == 1], max_volume[race_white == 1], label='White', color='orange')\n",
        "\n",
        "# Set labels and title\n",
        "plt.xlabel('Age')\n",
        "plt.ylabel('Max Volume')\n",
        "plt.title('Scatter Plot of Age vs. Max Volume by Race')\n",
        "\n",
        "# Add legend\n",
        "plt.legend()\n",
        "\n",
        "# Show the plot\n",
        "plt.show()\n"
      ],
      "metadata": {
        "colab": {
          "base_uri": "https://localhost:8080/",
          "height": 564
        },
        "id": "jkHLC4XnDyTv",
        "outputId": "0fdd17bd-49d1-424e-c700-bbb52b20fc41"
      },
      "execution_count": 161,
      "outputs": [
        {
          "output_type": "display_data",
          "data": {
            "text/plain": [
              "<Figure size 1000x600 with 1 Axes>"
            ],
            "image/png": "[encoded data removed]"
          },
          "metadata": {}
        }
      ]
    },
    {
      "cell_type": "code",
      "source": [
        "# This t-test is used to test the significant difference\n",
        "# between these two people\n",
        "\n",
        "from scipy.stats import ttest_ind\n",
        "import matplotlib.pyplot as plt\n",
        "\n",
        "# Extract relevant columns\n",
        "max_volume_asian = merged_data.loc[merged_data['Race_Asian'] == 1, 'Max Volume']\n",
        "max_volume_white = merged_data.loc[merged_data['Race_White'] == 1, 'Max Volume']\n",
        "\n",
        "# Perform t-test\n",
        "t_statistic, p_value = ttest_ind(max_volume_asian, max_volume_white, equal_var=False)\n",
        "\n",
        "# Print the results\n",
        "print(f'T-statistic: {t_statistic}')\n",
        "print(f'P-value: {p_value}')\n",
        "\n",
        "# Create a boxplot for better visualization\n",
        "plt.figure(figsize=(8, 5))\n",
        "plt.boxplot([max_volume_asian, max_volume_white], labels=['Asian', 'White'])\n",
        "plt.xlabel('Race')\n",
        "plt.ylabel('Max Volume')\n",
        "plt.title('Boxplot of Max Volume by Race')\n",
        "plt.show()\n"
      ],
      "metadata": {
        "colab": {
          "base_uri": "https://localhost:8080/",
          "height": 523
        },
        "id": "jQrotX6XQDYm",
        "outputId": "bad43669-a1bb-40cc-9895-c668039e4768"
      },
      "execution_count": 162,
      "outputs": [
        {
          "output_type": "stream",
          "name": "stdout",
          "text": [
            "T-statistic: 8.174246445381765\n",
            "P-value: 6.053789995166166e-05\n"
          ]
        },
        {
          "output_type": "display_data",
          "data": {
            "text/plain": [
              "<Figure size 800x500 with 1 Axes>"
            ],
            "image/png": "[encoded data removed]"
          },
          "metadata": {}
        }
      ]
    }
  ]
}